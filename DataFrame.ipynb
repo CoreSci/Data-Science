{
 "cells": [
  {
   "cell_type": "code",
   "execution_count": null,
   "id": "55556b02-532f-4636-b67e-85d7bffa5a6a",
   "metadata": {},
   "outputs": [],
   "source": [
    "#Here's a simple example of creating a DataFrame using pandas in Python\n",
    "#This creates a DataFrame with columns 'Name', 'Age', and 'City' using the provided data."
   ]
  },
  {
   "cell_type": "code",
   "execution_count": 1,
   "id": "74313901-aa74-43cb-9293-6f8da6cff223",
   "metadata": {},
   "outputs": [],
   "source": [
    "import pandas as pd"
   ]
  },
  {
   "cell_type": "code",
   "execution_count": 2,
   "id": "58b39d0e-73e5-42d3-895a-d47307572899",
   "metadata": {},
   "outputs": [],
   "source": [
    "# Sample data\n",
    "data = {'Name': ['Alice', 'Bob', 'Charlie'],\n",
    "        'Age': [25, 30, 22],\n",
    "        'City': ['New York', 'San Francisco', 'Los Angeles']}"
   ]
  },
  {
   "cell_type": "code",
   "execution_count": 3,
   "id": "6473e0cc-e7c6-4181-997d-7c3a2e90dd7a",
   "metadata": {},
   "outputs": [],
   "source": [
    "# Creating DataFrame\n",
    "df = pd.DataFrame(data)"
   ]
  },
  {
   "cell_type": "code",
   "execution_count": 4,
   "id": "3909461e-ebbe-4dda-af50-46b63caa19b9",
   "metadata": {},
   "outputs": [
    {
     "name": "stdout",
     "output_type": "stream",
     "text": [
      "      Name  Age           City\n",
      "0    Alice   25       New York\n",
      "1      Bob   30  San Francisco\n",
      "2  Charlie   22    Los Angeles\n"
     ]
    }
   ],
   "source": [
    "# Displaying the DataFrame\n",
    "print(df)"
   ]
  },
  {
   "cell_type": "code",
   "execution_count": null,
   "id": "c5d843ea-fdee-48ea-b30f-cd84fa7693ca",
   "metadata": {},
   "outputs": [],
   "source": [
    "#You can change the name of a column in a pandas DataFrame using the rename method. Here's an example\n",
    "#In this example, the 'Age' column is renamed to 'Years' using the rename method.\n",
    "#The inplace=True parameter ensures that the changes are made directly to the original DataFrame."
   ]
  },
  {
   "cell_type": "code",
   "execution_count": 5,
   "id": "6cbdef12-977f-4f53-9f29-a5923ea6c030",
   "metadata": {},
   "outputs": [
    {
     "name": "stdout",
     "output_type": "stream",
     "text": [
      "Original DataFrame:\n",
      "      Name  Age           City\n",
      "0    Alice   25       New York\n",
      "1      Bob   30  San Francisco\n",
      "2  Charlie   22    Los Angeles\n"
     ]
    }
   ],
   "source": [
    "# Displaying the original DataFrame\n",
    "print(\"Original DataFrame:\")\n",
    "print(df)"
   ]
  },
  {
   "cell_type": "code",
   "execution_count": 6,
   "id": "bf49a36e-42d7-4238-913f-7ed829528c3a",
   "metadata": {},
   "outputs": [],
   "source": [
    "# Renaming the 'Age' column to 'Years'\n",
    "df.rename(columns={'Age': 'Years'}, inplace=True)"
   ]
  },
  {
   "cell_type": "code",
   "execution_count": 7,
   "id": "c6221e63-0d9c-49c3-859c-2171f13c5883",
   "metadata": {},
   "outputs": [
    {
     "name": "stdout",
     "output_type": "stream",
     "text": [
      "\n",
      "DataFrame after renaming:\n",
      "      Name  Years           City\n",
      "0    Alice     25       New York\n",
      "1      Bob     30  San Francisco\n",
      "2  Charlie     22    Los Angeles\n"
     ]
    }
   ],
   "source": [
    "# Displaying the DataFrame after renaming\n",
    "print(\"\\nDataFrame after renaming:\")\n",
    "print(df)"
   ]
  },
  {
   "cell_type": "code",
   "execution_count": null,
   "id": "6a5f3dbe-1322-4ae7-9832-b7ae738a414c",
   "metadata": {},
   "outputs": [],
   "source": [
    "# If you want to change the index label of a specific row, you can use the rename method. Here's an example\n",
    "#In this example, the index label 'Person2' is renamed to 'John' using the rename method with the inplace=True parameter to modify the original DataFrame."
   ]
  },
  {
   "cell_type": "code",
   "execution_count": 8,
   "id": "85b68bd1-1970-47f3-a4b3-5a1dcf0b433e",
   "metadata": {},
   "outputs": [],
   "source": [
    "# Sample data\n",
    "data = {'Name': ['Alice', 'Bob', 'Charlie'],\n",
    "        'Age': [25, 30, 22],\n",
    "        'City': ['New York', 'San Francisco', 'Los Angeles']}"
   ]
  },
  {
   "cell_type": "code",
   "execution_count": 9,
   "id": "57a7e0b8-eb60-4298-85d7-35c22f039f5d",
   "metadata": {},
   "outputs": [],
   "source": [
    "# Creating DataFrame with custom index labels\n",
    "df = pd.DataFrame(data, index=['Person1', 'Person2', 'Person3'])"
   ]
  },
  {
   "cell_type": "code",
   "execution_count": 10,
   "id": "83eba282-04f5-491a-af60-f140999e9f7f",
   "metadata": {},
   "outputs": [
    {
     "name": "stdout",
     "output_type": "stream",
     "text": [
      "Original DataFrame:\n",
      "            Name  Age           City\n",
      "Person1    Alice   25       New York\n",
      "Person2      Bob   30  San Francisco\n",
      "Person3  Charlie   22    Los Angeles\n"
     ]
    }
   ],
   "source": [
    "# Displaying the original DataFrame\n",
    "print(\"Original DataFrame:\")\n",
    "print(df)"
   ]
  },
  {
   "cell_type": "code",
   "execution_count": 11,
   "id": "2d13911b-baa8-4311-a68d-bbebdd04f1da",
   "metadata": {},
   "outputs": [],
   "source": [
    "# Renaming the index label 'Person2' to 'John'\n",
    "df.rename(index={'Person2': 'John'}, inplace=True)"
   ]
  },
  {
   "cell_type": "code",
   "execution_count": 12,
   "id": "e9c17471-480f-4148-ada4-5af56f1e8ae0",
   "metadata": {},
   "outputs": [
    {
     "name": "stdout",
     "output_type": "stream",
     "text": [
      "\n",
      "DataFrame after renaming:\n",
      "            Name  Age           City\n",
      "Person1    Alice   25       New York\n",
      "John         Bob   30  San Francisco\n",
      "Person3  Charlie   22    Los Angeles\n"
     ]
    }
   ],
   "source": [
    "# Displaying the DataFrame after renaming\n",
    "print(\"\\nDataFrame after renaming:\")\n",
    "print(df)"
   ]
  },
  {
   "cell_type": "code",
   "execution_count": null,
   "id": "5b2e8cb3-f00f-4c14-9607-7c6d45c68530",
   "metadata": {},
   "outputs": [],
   "source": [
    "#You can change the content of a specific cell in a pandas DataFrame using the .at[] indexer or the .loc[] indexer. Here's an example using the .at[] indexer:\n",
    "#In this example, the age of the person in the second row is changed from 30 to 32 using the .at[] indexer.\n",
    "#You can similarly use the .loc[] indexer for more complex row/column selection scenarios."
   ]
  },
  {
   "cell_type": "code",
   "execution_count": 13,
   "id": "2bc6c274-d26d-4bf1-9889-f56db24bc0c3",
   "metadata": {},
   "outputs": [],
   "source": [
    "# Sample data\n",
    "data = {'Name': ['Alice', 'Bob', 'Charlie'],\n",
    "        'Age': [25, 30, 22],\n",
    "        'City': ['New York', 'San Francisco', 'Los Angeles']}"
   ]
  },
  {
   "cell_type": "code",
   "execution_count": 14,
   "id": "f846cde4-a4be-4082-ae63-108b56a6ea19",
   "metadata": {},
   "outputs": [],
   "source": [
    "# Creating DataFrame\n",
    "df = pd.DataFrame(data)"
   ]
  },
  {
   "cell_type": "code",
   "execution_count": 15,
   "id": "61fdf24f-7933-45a4-a948-59610baf083b",
   "metadata": {},
   "outputs": [
    {
     "name": "stdout",
     "output_type": "stream",
     "text": [
      "Original DataFrame:\n",
      "      Name  Age           City\n",
      "0    Alice   25       New York\n",
      "1      Bob   30  San Francisco\n",
      "2  Charlie   22    Los Angeles\n"
     ]
    }
   ],
   "source": [
    "# Displaying the original DataFrame\n",
    "print(\"Original DataFrame:\")\n",
    "print(df)\n"
   ]
  },
  {
   "cell_type": "code",
   "execution_count": 16,
   "id": "4e3b991f-a685-44cb-8260-7554988b0f6e",
   "metadata": {},
   "outputs": [],
   "source": [
    "# Changing the content of the cell in the second row, 'Age' column\n",
    "df.at[1, 'Age'] = 32"
   ]
  },
  {
   "cell_type": "code",
   "execution_count": 17,
   "id": "f435df8d-aeb2-4a59-a7fc-39a85ea35e43",
   "metadata": {},
   "outputs": [
    {
     "name": "stdout",
     "output_type": "stream",
     "text": [
      "\n",
      "DataFrame after changing cell content:\n",
      "      Name  Age           City\n",
      "0    Alice   25       New York\n",
      "1      Bob   32  San Francisco\n",
      "2  Charlie   22    Los Angeles\n"
     ]
    }
   ],
   "source": [
    "# Displaying the DataFrame after changing the cell content\n",
    "print(\"\\nDataFrame after changing cell content:\")\n",
    "print(df)"
   ]
  },
  {
   "cell_type": "code",
   "execution_count": null,
   "id": "f0ca79e6-1888-45e2-bb35-fcfde8492b79",
   "metadata": {},
   "outputs": [],
   "source": [
    "#Here's an example of changing the content of a cell using the .loc[] indexer\n",
    "#In this example, the age of the person in the second row is changed from 30 to 32 using the .loc[] indexer.\n",
    "#This indexer allows you to specify both the row and column using labels, making it versatile for more complex selections and modifications in your DataFrame."
   ]
  },
  {
   "cell_type": "code",
   "execution_count": 18,
   "id": "0b7a8791-1520-4341-a25d-c8fc5c3b9b6a",
   "metadata": {},
   "outputs": [],
   "source": [
    "# Sample data\n",
    "data = {'Name': ['Alice', 'Bob', 'Charlie'],\n",
    "        'Age': [25, 30, 22],\n",
    "        'City': ['New York', 'San Francisco', 'Los Angeles']}"
   ]
  },
  {
   "cell_type": "code",
   "execution_count": 19,
   "id": "0a6227a1-f53b-4197-92fd-1c0902ac3118",
   "metadata": {},
   "outputs": [],
   "source": [
    "# Creating DataFrame\n",
    "df = pd.DataFrame(data)"
   ]
  },
  {
   "cell_type": "code",
   "execution_count": 20,
   "id": "8daf9368-a362-4c71-8c1b-a1cc6eafb460",
   "metadata": {},
   "outputs": [
    {
     "name": "stdout",
     "output_type": "stream",
     "text": [
      "Original DataFrame:\n",
      "      Name  Age           City\n",
      "0    Alice   25       New York\n",
      "1      Bob   30  San Francisco\n",
      "2  Charlie   22    Los Angeles\n"
     ]
    }
   ],
   "source": [
    "# Displaying the original DataFrame\n",
    "print(\"Original DataFrame:\")\n",
    "print(df)"
   ]
  },
  {
   "cell_type": "code",
   "execution_count": 21,
   "id": "ca6a1238-ea51-401d-b315-1ef33d67c5c5",
   "metadata": {},
   "outputs": [],
   "source": [
    "# Changing the content of the cell in the second row, 'Age' column\n",
    "df.loc[1, 'Age'] = 32"
   ]
  },
  {
   "cell_type": "code",
   "execution_count": 22,
   "id": "3e21d85f-97f7-4017-865d-9a1a1afd249a",
   "metadata": {},
   "outputs": [
    {
     "name": "stdout",
     "output_type": "stream",
     "text": [
      "\n",
      "DataFrame after changing cell content:\n",
      "      Name  Age           City\n",
      "0    Alice   25       New York\n",
      "1      Bob   32  San Francisco\n",
      "2  Charlie   22    Los Angeles\n"
     ]
    }
   ],
   "source": [
    "# Displaying the DataFrame after changing cell content\n",
    "print(\"\\nDataFrame after changing cell content:\")\n",
    "print(df)"
   ]
  },
  {
   "cell_type": "code",
   "execution_count": null,
   "id": "18932428-0f5b-4da8-a96d-4733d89f19bb",
   "metadata": {},
   "outputs": [],
   "source": []
  }
 ],
 "metadata": {
  "kernelspec": {
   "display_name": "Python 3 (ipykernel)",
   "language": "python",
   "name": "python3"
  },
  "language_info": {
   "codemirror_mode": {
    "name": "ipython",
    "version": 3
   },
   "file_extension": ".py",
   "mimetype": "text/x-python",
   "name": "python",
   "nbconvert_exporter": "python",
   "pygments_lexer": "ipython3",
   "version": "3.11.6"
  }
 },
 "nbformat": 4,
 "nbformat_minor": 5
}
