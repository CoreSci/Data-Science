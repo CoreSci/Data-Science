{
 "cells": [
  {
   "cell_type": "code",
   "execution_count": null,
   "id": "d1ee999d-f3c9-4148-a140-9d7be073e0cd",
   "metadata": {},
   "outputs": [],
   "source": [
    "#Here's a simple example of a t-test in Python using the scipy.stats module.\n",
    "#This example compares two independent groups (group1 and group2) using an independent t-test and prints the t-statistic, p-value, and a conclusion based on the p-value."
   ]
  },
  {
   "cell_type": "code",
   "execution_count": 1,
   "id": "37ee5775-cd4f-4aba-bb5c-195c3af31445",
   "metadata": {},
   "outputs": [],
   "source": [
    "import scipy.stats as stats"
   ]
  },
  {
   "cell_type": "code",
   "execution_count": 2,
   "id": "2132dd7f-eee2-4185-aae0-49c2c6650795",
   "metadata": {},
   "outputs": [],
   "source": [
    "# Sample data\n",
    "group1 = [25, 30, 28, 35, 32]\n",
    "group2 = [20, 22, 18, 25, 28]"
   ]
  },
  {
   "cell_type": "code",
   "execution_count": 3,
   "id": "688ff287-ea04-4ad2-8d91-6515b70bdbf1",
   "metadata": {},
   "outputs": [],
   "source": [
    "# Perform independent t-test\n",
    "t_statistic, p_value = stats.ttest_ind(group1, group2)"
   ]
  },
  {
   "cell_type": "code",
   "execution_count": 4,
   "id": "828dbbb5-a870-4599-bdb6-54f36847dd07",
   "metadata": {},
   "outputs": [
    {
     "name": "stdout",
     "output_type": "stream",
     "text": [
      "t-statistic: 3.006044515698833\n",
      "p-value: 0.01691516244236044\n"
     ]
    }
   ],
   "source": [
    "# Display results\n",
    "print(\"t-statistic:\", t_statistic)\n",
    "print(\"p-value:\", p_value)"
   ]
  },
  {
   "cell_type": "code",
   "execution_count": 5,
   "id": "65231e16-e0a6-4f81-a6d0-18ccb41d013e",
   "metadata": {},
   "outputs": [
    {
     "name": "stdout",
     "output_type": "stream",
     "text": [
      "Reject the null hypothesis. There is a significant difference between the groups.\n"
     ]
    }
   ],
   "source": [
    "# Interpret the results\n",
    "if p_value < 0.05:\n",
    "    print(\"Reject the null hypothesis. There is a significant difference between the groups.\")\n",
    "else:\n",
    "    print(\"Fail to reject the null hypothesis. There is no significant difference between the groups.\")"
   ]
  },
  {
   "cell_type": "code",
   "execution_count": null,
   "id": "8d3eb80a-bcb1-4e92-aaf9-d6d4b8a1e942",
   "metadata": {},
   "outputs": [],
   "source": []
  }
 ],
 "metadata": {
  "kernelspec": {
   "display_name": "Python 3 (ipykernel)",
   "language": "python",
   "name": "python3"
  },
  "language_info": {
   "codemirror_mode": {
    "name": "ipython",
    "version": 3
   },
   "file_extension": ".py",
   "mimetype": "text/x-python",
   "name": "python",
   "nbconvert_exporter": "python",
   "pygments_lexer": "ipython3",
   "version": "3.11.6"
  }
 },
 "nbformat": 4,
 "nbformat_minor": 5
}
