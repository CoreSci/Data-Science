{
 "cells": [
  {
   "cell_type": "code",
   "execution_count": 9,
   "id": "07de57a1-fecb-4e70-8d94-6a00af67c05a",
   "metadata": {},
   "outputs": [],
   "source": [
    "#Here's a simple example of a decision tree using Python with the popular scikit-learn library.\n",
    "#This is a basic example using two features (e.g., sepal length and sepal width) to classify samples into two classes.\n",
    "#You can adapt it to your specific dataset and problem."
   ]
  },
  {
   "cell_type": "code",
   "execution_count": 1,
   "id": "78426816-0536-4ff9-bd71-5e2d8e426d9b",
   "metadata": {},
   "outputs": [],
   "source": [
    "from sklearn import tree"
   ]
  },
  {
   "cell_type": "code",
   "execution_count": 2,
   "id": "64ec8c93-946e-42a4-9266-bce84f57d747",
   "metadata": {},
   "outputs": [],
   "source": [
    "# Sample data\n",
    "features = [[5.1, 3.5], [4.9, 3.0], [6.7, 3.1], [6.0, 3.0]]\n",
    "labels = ['Class1', 'Class1', 'Class2', 'Class2']"
   ]
  },
  {
   "cell_type": "code",
   "execution_count": 3,
   "id": "1098d91d-11a6-47f4-a89c-f0d52adcef10",
   "metadata": {},
   "outputs": [],
   "source": [
    "# Create and fit the decision tree model\n",
    "clf = tree.DecisionTreeClassifier()\n",
    "clf = clf.fit(features, labels)"
   ]
  },
  {
   "cell_type": "code",
   "execution_count": 4,
   "id": "649d95c4-1f15-495e-8074-ed1749f13d81",
   "metadata": {},
   "outputs": [
    {
     "name": "stdout",
     "output_type": "stream",
     "text": [
      "Predicted class: ['Class1']\n"
     ]
    }
   ],
   "source": [
    "# Make predictions\n",
    "new_data = [[5.5, 3.2]]\n",
    "prediction = clf.predict(new_data)\n",
    "\n",
    "print(\"Predicted class:\", prediction)"
   ]
  },
  {
   "cell_type": "code",
   "execution_count": null,
   "id": "5693073a-4af1-457d-9dfb-b19399aa3802",
   "metadata": {},
   "outputs": [],
   "source": []
  }
 ],
 "metadata": {
  "kernelspec": {
   "display_name": "Python 3 (ipykernel)",
   "language": "python",
   "name": "python3"
  },
  "language_info": {
   "codemirror_mode": {
    "name": "ipython",
    "version": 3
   },
   "file_extension": ".py",
   "mimetype": "text/x-python",
   "name": "python",
   "nbconvert_exporter": "python",
   "pygments_lexer": "ipython3",
   "version": "3.11.6"
  }
 },
 "nbformat": 4,
 "nbformat_minor": 5
}
